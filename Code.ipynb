{
  "cells": [
    {
      "cell_type": "markdown",
      "metadata": {
        "id": "iPd2omnC1CLY"
      },
      "source": [
        "# Sentiment Analysis\n"
      ]
    },
    {
      "cell_type": "code",
      "execution_count": null,
      "metadata": {
        "colab": {
          "base_uri": "https://localhost:8080/"
        },
        "id": "DLSKEwPOHhu7",
        "outputId": "6022eb23-d978-4327-e78f-b3845b384a62"
      },
      "outputs": [
        {
          "name": "stdout",
          "output_type": "stream",
          "text": [
            "Requirement already satisfied: google_play_scraper in /usr/local/lib/python3.7/dist-packages (1.0.3)\n"
          ]
        }
      ],
      "source": [
        "!pip install google_play_scraper\n",
        "import pandas as pd\n",
        "import numpy as np\n",
        "from google_play_scraper import app,reviews,Sort"
      ]
    },
    {
      "cell_type": "code",
      "execution_count": null,
      "metadata": {
        "id": "2kBHqDw3Q9pC"
      },
      "outputs": [],
      "source": [
        "amazon_reviews, continuation_token = reviews(\n",
        "    'in.amazon.mShop.android.shopping',\n",
        "    lang='en', \n",
        "    country='us',\n",
        "    sort=Sort.MOST_RELEVANT,\n",
        "    count=10000,\n",
        ")\n",
        "\n",
        "amazon_reviews, _ = reviews(\n",
        "    'in.amazon.mShop.android.shopping',\n",
        "    continuation_token=continuation_token \n",
        ")"
      ]
    },
    {
      "cell_type": "code",
      "execution_count": null,
      "metadata": {
        "colab": {
          "base_uri": "https://localhost:8080/",
          "height": 478
        },
        "id": "FAYJOFFpToq2",
        "outputId": "9b2d99a8-7da5-44a4-89c9-33646220ff35"
      },
      "outputs": [
        {
          "data": {
            "text/html": [
              "\n",
              "  <div id=\"df-cdb43225-77ca-480f-9863-9b3feba94cff\">\n",
              "    <div class=\"colab-df-container\">\n",
              "      <div>\n",
              "<style scoped>\n",
              "    .dataframe tbody tr th:only-of-type {\n",
              "        vertical-align: middle;\n",
              "    }\n",
              "\n",
              "    .dataframe tbody tr th {\n",
              "        vertical-align: top;\n",
              "    }\n",
              "\n",
              "    .dataframe thead th {\n",
              "        text-align: right;\n",
              "    }\n",
              "</style>\n",
              "<table border=\"1\" class=\"dataframe\">\n",
              "  <thead>\n",
              "    <tr style=\"text-align: right;\">\n",
              "      <th></th>\n",
              "      <th>reviewId</th>\n",
              "      <th>userName</th>\n",
              "      <th>userImage</th>\n",
              "      <th>content</th>\n",
              "      <th>score</th>\n",
              "      <th>thumbsUpCount</th>\n",
              "      <th>reviewCreatedVersion</th>\n",
              "      <th>at</th>\n",
              "      <th>replyContent</th>\n",
              "      <th>repliedAt</th>\n",
              "    </tr>\n",
              "  </thead>\n",
              "  <tbody>\n",
              "    <tr>\n",
              "      <th>0</th>\n",
              "      <td>gp:AOqpTOE1Gl_RZYsB8_sGvmKtZRerq6xPPed8DJ51wWk...</td>\n",
              "      <td>Rock singh Rock singh</td>\n",
              "      <td>https://play-lh.googleusercontent.com/a/AATXAJ...</td>\n",
              "      <td>Best app</td>\n",
              "      <td>5</td>\n",
              "      <td>0</td>\n",
              "      <td>None</td>\n",
              "      <td>2022-04-02 03:02:51</td>\n",
              "      <td>None</td>\n",
              "      <td>NaT</td>\n",
              "    </tr>\n",
              "    <tr>\n",
              "      <th>1</th>\n",
              "      <td>gp:AOqpTOHHE0Xeg5Q7Jm7rohx8L75NQlw3eZ8oW34h6OA...</td>\n",
              "      <td>sachindra kumar pradhan</td>\n",
              "      <td>https://play-lh.googleusercontent.com/a-/AOh14...</td>\n",
              "      <td>beutiful</td>\n",
              "      <td>4</td>\n",
              "      <td>0</td>\n",
              "      <td>22.19.0.300</td>\n",
              "      <td>2022-04-02 03:02:00</td>\n",
              "      <td>None</td>\n",
              "      <td>NaT</td>\n",
              "    </tr>\n",
              "    <tr>\n",
              "      <th>2</th>\n",
              "      <td>gp:AOqpTOFQQizEkSz7DQwLDz3e2FyYhMQW0SMDn5s8Z2-...</td>\n",
              "      <td>Puja subba Pihuu</td>\n",
              "      <td>https://play-lh.googleusercontent.com/a-/AOh14...</td>\n",
              "      <td>Very gud app 🥰🥰🥰🥰</td>\n",
              "      <td>5</td>\n",
              "      <td>0</td>\n",
              "      <td>20.6.0.300</td>\n",
              "      <td>2022-04-02 03:01:01</td>\n",
              "      <td>None</td>\n",
              "      <td>NaT</td>\n",
              "    </tr>\n",
              "    <tr>\n",
              "      <th>3</th>\n",
              "      <td>gp:AOqpTOGoOcbTZpSUkiZkeytLcGM_xUo104psqoz_rJb...</td>\n",
              "      <td>Tanishq Patil</td>\n",
              "      <td>https://play-lh.googleusercontent.com/a/AATXAJ...</td>\n",
              "      <td>Fantastic🤘😝 thanks</td>\n",
              "      <td>5</td>\n",
              "      <td>0</td>\n",
              "      <td>None</td>\n",
              "      <td>2022-04-02 02:58:30</td>\n",
              "      <td>None</td>\n",
              "      <td>NaT</td>\n",
              "    </tr>\n",
              "    <tr>\n",
              "      <th>4</th>\n",
              "      <td>gp:AOqpTOEkrz39PmTBs0KyarZ6PXAx631TZmwQlPF7ISM...</td>\n",
              "      <td>vinod pawar</td>\n",
              "      <td>https://play-lh.googleusercontent.com/a/AATXAJ...</td>\n",
              "      <td>Excellent</td>\n",
              "      <td>5</td>\n",
              "      <td>0</td>\n",
              "      <td>None</td>\n",
              "      <td>2022-04-02 02:58:23</td>\n",
              "      <td>None</td>\n",
              "      <td>NaT</td>\n",
              "    </tr>\n",
              "  </tbody>\n",
              "</table>\n",
              "</div>\n",
              "      <button class=\"colab-df-convert\" onclick=\"convertToInteractive('df-cdb43225-77ca-480f-9863-9b3feba94cff')\"\n",
              "              title=\"Convert this dataframe to an interactive table.\"\n",
              "              style=\"display:none;\">\n",
              "        \n",
              "  <svg xmlns=\"http://www.w3.org/2000/svg\" height=\"24px\"viewBox=\"0 0 24 24\"\n",
              "       width=\"24px\">\n",
              "    <path d=\"M0 0h24v24H0V0z\" fill=\"none\"/>\n",
              "    <path d=\"M18.56 5.44l.94 2.06.94-2.06 2.06-.94-2.06-.94-.94-2.06-.94 2.06-2.06.94zm-11 1L8.5 8.5l.94-2.06 2.06-.94-2.06-.94L8.5 2.5l-.94 2.06-2.06.94zm10 10l.94 2.06.94-2.06 2.06-.94-2.06-.94-.94-2.06-.94 2.06-2.06.94z\"/><path d=\"M17.41 7.96l-1.37-1.37c-.4-.4-.92-.59-1.43-.59-.52 0-1.04.2-1.43.59L10.3 9.45l-7.72 7.72c-.78.78-.78 2.05 0 2.83L4 21.41c.39.39.9.59 1.41.59.51 0 1.02-.2 1.41-.59l7.78-7.78 2.81-2.81c.8-.78.8-2.07 0-2.86zM5.41 20L4 18.59l7.72-7.72 1.47 1.35L5.41 20z\"/>\n",
              "  </svg>\n",
              "      </button>\n",
              "      \n",
              "  <style>\n",
              "    .colab-df-container {\n",
              "      display:flex;\n",
              "      flex-wrap:wrap;\n",
              "      gap: 12px;\n",
              "    }\n",
              "\n",
              "    .colab-df-convert {\n",
              "      background-color: #E8F0FE;\n",
              "      border: none;\n",
              "      border-radius: 50%;\n",
              "      cursor: pointer;\n",
              "      display: none;\n",
              "      fill: #1967D2;\n",
              "      height: 32px;\n",
              "      padding: 0 0 0 0;\n",
              "      width: 32px;\n",
              "    }\n",
              "\n",
              "    .colab-df-convert:hover {\n",
              "      background-color: #E2EBFA;\n",
              "      box-shadow: 0px 1px 2px rgba(60, 64, 67, 0.3), 0px 1px 3px 1px rgba(60, 64, 67, 0.15);\n",
              "      fill: #174EA6;\n",
              "    }\n",
              "\n",
              "    [theme=dark] .colab-df-convert {\n",
              "      background-color: #3B4455;\n",
              "      fill: #D2E3FC;\n",
              "    }\n",
              "\n",
              "    [theme=dark] .colab-df-convert:hover {\n",
              "      background-color: #434B5C;\n",
              "      box-shadow: 0px 1px 3px 1px rgba(0, 0, 0, 0.15);\n",
              "      filter: drop-shadow(0px 1px 2px rgba(0, 0, 0, 0.3));\n",
              "      fill: #FFFFFF;\n",
              "    }\n",
              "  </style>\n",
              "\n",
              "      <script>\n",
              "        const buttonEl =\n",
              "          document.querySelector('#df-cdb43225-77ca-480f-9863-9b3feba94cff button.colab-df-convert');\n",
              "        buttonEl.style.display =\n",
              "          google.colab.kernel.accessAllowed ? 'block' : 'none';\n",
              "\n",
              "        async function convertToInteractive(key) {\n",
              "          const element = document.querySelector('#df-cdb43225-77ca-480f-9863-9b3feba94cff');\n",
              "          const dataTable =\n",
              "            await google.colab.kernel.invokeFunction('convertToInteractive',\n",
              "                                                     [key], {});\n",
              "          if (!dataTable) return;\n",
              "\n",
              "          const docLinkHtml = 'Like what you see? Visit the ' +\n",
              "            '<a target=\"_blank\" href=https://colab.research.google.com/notebooks/data_table.ipynb>data table notebook</a>'\n",
              "            + ' to learn more about interactive tables.';\n",
              "          element.innerHTML = '';\n",
              "          dataTable['output_type'] = 'display_data';\n",
              "          await google.colab.output.renderOutput(dataTable, element);\n",
              "          const docLink = document.createElement('div');\n",
              "          docLink.innerHTML = docLinkHtml;\n",
              "          element.appendChild(docLink);\n",
              "        }\n",
              "      </script>\n",
              "    </div>\n",
              "  </div>\n",
              "  "
            ],
            "text/plain": [
              "                                            reviewId                 userName  \\\n",
              "0  gp:AOqpTOE1Gl_RZYsB8_sGvmKtZRerq6xPPed8DJ51wWk...    Rock singh Rock singh   \n",
              "1  gp:AOqpTOHHE0Xeg5Q7Jm7rohx8L75NQlw3eZ8oW34h6OA...  sachindra kumar pradhan   \n",
              "2  gp:AOqpTOFQQizEkSz7DQwLDz3e2FyYhMQW0SMDn5s8Z2-...         Puja subba Pihuu   \n",
              "3  gp:AOqpTOGoOcbTZpSUkiZkeytLcGM_xUo104psqoz_rJb...            Tanishq Patil   \n",
              "4  gp:AOqpTOEkrz39PmTBs0KyarZ6PXAx631TZmwQlPF7ISM...              vinod pawar   \n",
              "\n",
              "                                           userImage             content  \\\n",
              "0  https://play-lh.googleusercontent.com/a/AATXAJ...            Best app   \n",
              "1  https://play-lh.googleusercontent.com/a-/AOh14...            beutiful   \n",
              "2  https://play-lh.googleusercontent.com/a-/AOh14...   Very gud app 🥰🥰🥰🥰   \n",
              "3  https://play-lh.googleusercontent.com/a/AATXAJ...  Fantastic🤘😝 thanks   \n",
              "4  https://play-lh.googleusercontent.com/a/AATXAJ...           Excellent   \n",
              "\n",
              "   score  thumbsUpCount reviewCreatedVersion                  at replyContent  \\\n",
              "0      5              0                 None 2022-04-02 03:02:51         None   \n",
              "1      4              0          22.19.0.300 2022-04-02 03:02:00         None   \n",
              "2      5              0           20.6.0.300 2022-04-02 03:01:01         None   \n",
              "3      5              0                 None 2022-04-02 02:58:30         None   \n",
              "4      5              0                 None 2022-04-02 02:58:23         None   \n",
              "\n",
              "  repliedAt  \n",
              "0       NaT  \n",
              "1       NaT  \n",
              "2       NaT  \n",
              "3       NaT  \n",
              "4       NaT  "
            ]
          },
          "execution_count": 6,
          "metadata": {},
          "output_type": "execute_result"
        }
      ],
      "source": [
        "df= pd.DataFrame(np.array(amazon_reviews),columns=['review'])\n",
        "df= df.join(pd.DataFrame(df.pop('review').tolist()))\n",
        "df.head()"
      ]
    },
    {
      "cell_type": "code",
      "execution_count": null,
      "metadata": {
        "colab": {
          "base_uri": "https://localhost:8080/"
        },
        "id": "LWhHFv8iTtZz",
        "outputId": "0027fbe1-e30a-48f1-b7c0-9ba0c4292f40"
      },
      "outputs": [
        {
          "data": {
            "text/plain": [
              "reviewId                        object\n",
              "userName                        object\n",
              "userImage                       object\n",
              "content                         object\n",
              "score                            int64\n",
              "thumbsUpCount                    int64\n",
              "reviewCreatedVersion            object\n",
              "at                      datetime64[ns]\n",
              "replyContent                    object\n",
              "repliedAt               datetime64[ns]\n",
              "dtype: object"
            ]
          },
          "execution_count": 7,
          "metadata": {},
          "output_type": "execute_result"
        }
      ],
      "source": [
        "df.dtypes"
      ]
    },
    {
      "cell_type": "code",
      "execution_count": null,
      "metadata": {
        "colab": {
          "base_uri": "https://localhost:8080/"
        },
        "id": "CsdTRzYgTwdJ",
        "outputId": "04597460-8682-44cb-922a-d143263d9756"
      },
      "outputs": [
        {
          "data": {
            "text/plain": [
              "(10000, 10)"
            ]
          },
          "execution_count": 8,
          "metadata": {},
          "output_type": "execute_result"
        }
      ],
      "source": [
        "df.shape"
      ]
    },
    {
      "cell_type": "code",
      "execution_count": null,
      "metadata": {
        "colab": {
          "base_uri": "https://localhost:8080/"
        },
        "id": "NFtinzFOT4nE",
        "outputId": "b07570b2-8814-4ef5-ba69-18c447e46cd6"
      },
      "outputs": [
        {
          "data": {
            "text/plain": [
              "5    5206\n",
              "1    2975\n",
              "4     918\n",
              "3     524\n",
              "2     377\n",
              "Name: score, dtype: int64"
            ]
          },
          "execution_count": 9,
          "metadata": {},
          "output_type": "execute_result"
        }
      ],
      "source": [
        "df['score'].value_counts()"
      ]
    },
    {
      "cell_type": "code",
      "execution_count": null,
      "metadata": {
        "colab": {
          "base_uri": "https://localhost:8080/"
        },
        "id": "NpesPhHLT6aH",
        "outputId": "d7e5a999-dbff-483c-c3ef-4e0a7c207c15"
      },
      "outputs": [
        {
          "data": {
            "text/plain": [
              "reviewId                        object\n",
              "userName                        object\n",
              "userImage                       object\n",
              "content                         object\n",
              "score                            int64\n",
              "thumbsUpCount                    int64\n",
              "reviewCreatedVersion            object\n",
              "at                      datetime64[ns]\n",
              "replyContent                    object\n",
              "repliedAt               datetime64[ns]\n",
              "dtype: object"
            ]
          },
          "execution_count": 10,
          "metadata": {},
          "output_type": "execute_result"
        }
      ],
      "source": [
        "df['content']=df['content'].astype('str')\n",
        "df.dtypes"
      ]
    },
    {
      "cell_type": "code",
      "execution_count": null,
      "metadata": {
        "colab": {
          "base_uri": "https://localhost:8080/"
        },
        "id": "elggCEJkT91N",
        "outputId": "8fc60fe8-d6bb-403d-ba83-78ba7f3350fd"
      },
      "outputs": [
        {
          "name": "stdout",
          "output_type": "stream",
          "text": [
            "Requirement already satisfied: transformers in /usr/local/lib/python3.7/dist-packages (4.18.0)\n",
            "Requirement already satisfied: tokenizers!=0.11.3,<0.13,>=0.11.1 in /usr/local/lib/python3.7/dist-packages (from transformers) (0.12.1)\n",
            "Requirement already satisfied: huggingface-hub<1.0,>=0.1.0 in /usr/local/lib/python3.7/dist-packages (from transformers) (0.5.1)\n",
            "Requirement already satisfied: requests in /usr/local/lib/python3.7/dist-packages (from transformers) (2.23.0)\n",
            "Requirement already satisfied: importlib-metadata in /usr/local/lib/python3.7/dist-packages (from transformers) (4.11.3)\n",
            "Requirement already satisfied: regex!=2019.12.17 in /usr/local/lib/python3.7/dist-packages (from transformers) (2019.12.20)\n",
            "Requirement already satisfied: sacremoses in /usr/local/lib/python3.7/dist-packages (from transformers) (0.0.49)\n",
            "Requirement already satisfied: filelock in /usr/local/lib/python3.7/dist-packages (from transformers) (3.6.0)\n",
            "Requirement already satisfied: pyyaml>=5.1 in /usr/local/lib/python3.7/dist-packages (from transformers) (6.0)\n",
            "Requirement already satisfied: packaging>=20.0 in /usr/local/lib/python3.7/dist-packages (from transformers) (21.3)\n",
            "Requirement already satisfied: tqdm>=4.27 in /usr/local/lib/python3.7/dist-packages (from transformers) (4.64.0)\n",
            "Requirement already satisfied: numpy>=1.17 in /usr/local/lib/python3.7/dist-packages (from transformers) (1.21.5)\n",
            "Requirement already satisfied: typing-extensions>=3.7.4.3 in /usr/local/lib/python3.7/dist-packages (from huggingface-hub<1.0,>=0.1.0->transformers) (4.1.1)\n",
            "Requirement already satisfied: pyparsing!=3.0.5,>=2.0.2 in /usr/local/lib/python3.7/dist-packages (from packaging>=20.0->transformers) (3.0.8)\n",
            "Requirement already satisfied: zipp>=0.5 in /usr/local/lib/python3.7/dist-packages (from importlib-metadata->transformers) (3.8.0)\n",
            "Requirement already satisfied: chardet<4,>=3.0.2 in /usr/local/lib/python3.7/dist-packages (from requests->transformers) (3.0.4)\n",
            "Requirement already satisfied: idna<3,>=2.5 in /usr/local/lib/python3.7/dist-packages (from requests->transformers) (2.10)\n",
            "Requirement already satisfied: certifi>=2017.4.17 in /usr/local/lib/python3.7/dist-packages (from requests->transformers) (2021.10.8)\n",
            "Requirement already satisfied: urllib3!=1.25.0,!=1.25.1,<1.26,>=1.21.1 in /usr/local/lib/python3.7/dist-packages (from requests->transformers) (1.24.3)\n",
            "Requirement already satisfied: click in /usr/local/lib/python3.7/dist-packages (from sacremoses->transformers) (7.1.2)\n",
            "Requirement already satisfied: joblib in /usr/local/lib/python3.7/dist-packages (from sacremoses->transformers) (1.1.0)\n",
            "Requirement already satisfied: six in /usr/local/lib/python3.7/dist-packages (from sacremoses->transformers) (1.15.0)\n"
          ]
        }
      ],
      "source": [
        "!pip install transformers\n",
        "from transformers import pipeline"
      ]
    },
    {
      "cell_type": "code",
      "execution_count": null,
      "metadata": {
        "colab": {
          "base_uri": "https://localhost:8080/"
        },
        "id": "gXUpOSt9UIRB",
        "outputId": "020a4780-b073-4212-9837-bc36ea0d6fc5"
      },
      "outputs": [
        {
          "name": "stderr",
          "output_type": "stream",
          "text": [
            "No model was supplied, defaulted to distilbert-base-uncased-finetuned-sst-2-english (https://huggingface.co/distilbert-base-uncased-finetuned-sst-2-english)\n"
          ]
        }
      ],
      "source": [
        "#adding sentiment and score column to dataframe\n",
        "sentiment_pipeline = pipeline(\"sentiment-analysis\")\n",
        "sentiment=[]  #creating a new column\n",
        "score=[]\n",
        "for i in df['content']:\n",
        "  a=(sentiment_pipeline(i))\n",
        "  sentiment.append(a[0]['label'])\n",
        "  score.append(a[0]['score'])\n",
        "df[\"Sentiment\"]=sentiment\n",
        "df[\"Score\"]=score"
      ]
    },
    {
      "cell_type": "code",
      "execution_count": null,
      "metadata": {
        "colab": {
          "base_uri": "https://localhost:8080/",
          "height": 478
        },
        "id": "8PdGutkkg4uo",
        "outputId": "7f0bb6d5-2da8-4262-d22f-bf65ed6dd150"
      },
      "outputs": [
        {
          "data": {
            "text/html": [
              "\n",
              "  <div id=\"df-8100366f-d070-4859-ac84-d590059cf813\">\n",
              "    <div class=\"colab-df-container\">\n",
              "      <div>\n",
              "<style scoped>\n",
              "    .dataframe tbody tr th:only-of-type {\n",
              "        vertical-align: middle;\n",
              "    }\n",
              "\n",
              "    .dataframe tbody tr th {\n",
              "        vertical-align: top;\n",
              "    }\n",
              "\n",
              "    .dataframe thead th {\n",
              "        text-align: right;\n",
              "    }\n",
              "</style>\n",
              "<table border=\"1\" class=\"dataframe\">\n",
              "  <thead>\n",
              "    <tr style=\"text-align: right;\">\n",
              "      <th></th>\n",
              "      <th>reviewId</th>\n",
              "      <th>userName</th>\n",
              "      <th>userImage</th>\n",
              "      <th>content</th>\n",
              "      <th>score</th>\n",
              "      <th>thumbsUpCount</th>\n",
              "      <th>reviewCreatedVersion</th>\n",
              "      <th>at</th>\n",
              "      <th>replyContent</th>\n",
              "      <th>repliedAt</th>\n",
              "      <th>Sentiment</th>\n",
              "      <th>Score</th>\n",
              "    </tr>\n",
              "  </thead>\n",
              "  <tbody>\n",
              "    <tr>\n",
              "      <th>0</th>\n",
              "      <td>gp:AOqpTOE1Gl_RZYsB8_sGvmKtZRerq6xPPed8DJ51wWk...</td>\n",
              "      <td>Rock singh Rock singh</td>\n",
              "      <td>https://play-lh.googleusercontent.com/a/AATXAJ...</td>\n",
              "      <td>Best app</td>\n",
              "      <td>5</td>\n",
              "      <td>0</td>\n",
              "      <td>None</td>\n",
              "      <td>2022-04-02 03:02:51</td>\n",
              "      <td>None</td>\n",
              "      <td>NaT</td>\n",
              "      <td>POSITIVE</td>\n",
              "      <td>0.999687</td>\n",
              "    </tr>\n",
              "    <tr>\n",
              "      <th>1</th>\n",
              "      <td>gp:AOqpTOHHE0Xeg5Q7Jm7rohx8L75NQlw3eZ8oW34h6OA...</td>\n",
              "      <td>sachindra kumar pradhan</td>\n",
              "      <td>https://play-lh.googleusercontent.com/a-/AOh14...</td>\n",
              "      <td>beutiful</td>\n",
              "      <td>4</td>\n",
              "      <td>0</td>\n",
              "      <td>22.19.0.300</td>\n",
              "      <td>2022-04-02 03:02:00</td>\n",
              "      <td>None</td>\n",
              "      <td>NaT</td>\n",
              "      <td>NEGATIVE</td>\n",
              "      <td>0.915655</td>\n",
              "    </tr>\n",
              "    <tr>\n",
              "      <th>2</th>\n",
              "      <td>gp:AOqpTOFQQizEkSz7DQwLDz3e2FyYhMQW0SMDn5s8Z2-...</td>\n",
              "      <td>Puja subba Pihuu</td>\n",
              "      <td>https://play-lh.googleusercontent.com/a-/AOh14...</td>\n",
              "      <td>Very gud app 🥰🥰🥰🥰</td>\n",
              "      <td>5</td>\n",
              "      <td>0</td>\n",
              "      <td>20.6.0.300</td>\n",
              "      <td>2022-04-02 03:01:01</td>\n",
              "      <td>None</td>\n",
              "      <td>NaT</td>\n",
              "      <td>NEGATIVE</td>\n",
              "      <td>0.956140</td>\n",
              "    </tr>\n",
              "    <tr>\n",
              "      <th>3</th>\n",
              "      <td>gp:AOqpTOGoOcbTZpSUkiZkeytLcGM_xUo104psqoz_rJb...</td>\n",
              "      <td>Tanishq Patil</td>\n",
              "      <td>https://play-lh.googleusercontent.com/a/AATXAJ...</td>\n",
              "      <td>Fantastic🤘😝 thanks</td>\n",
              "      <td>5</td>\n",
              "      <td>0</td>\n",
              "      <td>None</td>\n",
              "      <td>2022-04-02 02:58:30</td>\n",
              "      <td>None</td>\n",
              "      <td>NaT</td>\n",
              "      <td>POSITIVE</td>\n",
              "      <td>0.999649</td>\n",
              "    </tr>\n",
              "    <tr>\n",
              "      <th>4</th>\n",
              "      <td>gp:AOqpTOEkrz39PmTBs0KyarZ6PXAx631TZmwQlPF7ISM...</td>\n",
              "      <td>vinod pawar</td>\n",
              "      <td>https://play-lh.googleusercontent.com/a/AATXAJ...</td>\n",
              "      <td>Excellent</td>\n",
              "      <td>5</td>\n",
              "      <td>0</td>\n",
              "      <td>None</td>\n",
              "      <td>2022-04-02 02:58:23</td>\n",
              "      <td>None</td>\n",
              "      <td>NaT</td>\n",
              "      <td>POSITIVE</td>\n",
              "      <td>0.999843</td>\n",
              "    </tr>\n",
              "  </tbody>\n",
              "</table>\n",
              "</div>\n",
              "      <button class=\"colab-df-convert\" onclick=\"convertToInteractive('df-8100366f-d070-4859-ac84-d590059cf813')\"\n",
              "              title=\"Convert this dataframe to an interactive table.\"\n",
              "              style=\"display:none;\">\n",
              "        \n",
              "  <svg xmlns=\"http://www.w3.org/2000/svg\" height=\"24px\"viewBox=\"0 0 24 24\"\n",
              "       width=\"24px\">\n",
              "    <path d=\"M0 0h24v24H0V0z\" fill=\"none\"/>\n",
              "    <path d=\"M18.56 5.44l.94 2.06.94-2.06 2.06-.94-2.06-.94-.94-2.06-.94 2.06-2.06.94zm-11 1L8.5 8.5l.94-2.06 2.06-.94-2.06-.94L8.5 2.5l-.94 2.06-2.06.94zm10 10l.94 2.06.94-2.06 2.06-.94-2.06-.94-.94-2.06-.94 2.06-2.06.94z\"/><path d=\"M17.41 7.96l-1.37-1.37c-.4-.4-.92-.59-1.43-.59-.52 0-1.04.2-1.43.59L10.3 9.45l-7.72 7.72c-.78.78-.78 2.05 0 2.83L4 21.41c.39.39.9.59 1.41.59.51 0 1.02-.2 1.41-.59l7.78-7.78 2.81-2.81c.8-.78.8-2.07 0-2.86zM5.41 20L4 18.59l7.72-7.72 1.47 1.35L5.41 20z\"/>\n",
              "  </svg>\n",
              "      </button>\n",
              "      \n",
              "  <style>\n",
              "    .colab-df-container {\n",
              "      display:flex;\n",
              "      flex-wrap:wrap;\n",
              "      gap: 12px;\n",
              "    }\n",
              "\n",
              "    .colab-df-convert {\n",
              "      background-color: #E8F0FE;\n",
              "      border: none;\n",
              "      border-radius: 50%;\n",
              "      cursor: pointer;\n",
              "      display: none;\n",
              "      fill: #1967D2;\n",
              "      height: 32px;\n",
              "      padding: 0 0 0 0;\n",
              "      width: 32px;\n",
              "    }\n",
              "\n",
              "    .colab-df-convert:hover {\n",
              "      background-color: #E2EBFA;\n",
              "      box-shadow: 0px 1px 2px rgba(60, 64, 67, 0.3), 0px 1px 3px 1px rgba(60, 64, 67, 0.15);\n",
              "      fill: #174EA6;\n",
              "    }\n",
              "\n",
              "    [theme=dark] .colab-df-convert {\n",
              "      background-color: #3B4455;\n",
              "      fill: #D2E3FC;\n",
              "    }\n",
              "\n",
              "    [theme=dark] .colab-df-convert:hover {\n",
              "      background-color: #434B5C;\n",
              "      box-shadow: 0px 1px 3px 1px rgba(0, 0, 0, 0.15);\n",
              "      filter: drop-shadow(0px 1px 2px rgba(0, 0, 0, 0.3));\n",
              "      fill: #FFFFFF;\n",
              "    }\n",
              "  </style>\n",
              "\n",
              "      <script>\n",
              "        const buttonEl =\n",
              "          document.querySelector('#df-8100366f-d070-4859-ac84-d590059cf813 button.colab-df-convert');\n",
              "        buttonEl.style.display =\n",
              "          google.colab.kernel.accessAllowed ? 'block' : 'none';\n",
              "\n",
              "        async function convertToInteractive(key) {\n",
              "          const element = document.querySelector('#df-8100366f-d070-4859-ac84-d590059cf813');\n",
              "          const dataTable =\n",
              "            await google.colab.kernel.invokeFunction('convertToInteractive',\n",
              "                                                     [key], {});\n",
              "          if (!dataTable) return;\n",
              "\n",
              "          const docLinkHtml = 'Like what you see? Visit the ' +\n",
              "            '<a target=\"_blank\" href=https://colab.research.google.com/notebooks/data_table.ipynb>data table notebook</a>'\n",
              "            + ' to learn more about interactive tables.';\n",
              "          element.innerHTML = '';\n",
              "          dataTable['output_type'] = 'display_data';\n",
              "          await google.colab.output.renderOutput(dataTable, element);\n",
              "          const docLink = document.createElement('div');\n",
              "          docLink.innerHTML = docLinkHtml;\n",
              "          element.appendChild(docLink);\n",
              "        }\n",
              "      </script>\n",
              "    </div>\n",
              "  </div>\n",
              "  "
            ],
            "text/plain": [
              "                                            reviewId                 userName  \\\n",
              "0  gp:AOqpTOE1Gl_RZYsB8_sGvmKtZRerq6xPPed8DJ51wWk...    Rock singh Rock singh   \n",
              "1  gp:AOqpTOHHE0Xeg5Q7Jm7rohx8L75NQlw3eZ8oW34h6OA...  sachindra kumar pradhan   \n",
              "2  gp:AOqpTOFQQizEkSz7DQwLDz3e2FyYhMQW0SMDn5s8Z2-...         Puja subba Pihuu   \n",
              "3  gp:AOqpTOGoOcbTZpSUkiZkeytLcGM_xUo104psqoz_rJb...            Tanishq Patil   \n",
              "4  gp:AOqpTOEkrz39PmTBs0KyarZ6PXAx631TZmwQlPF7ISM...              vinod pawar   \n",
              "\n",
              "                                           userImage             content  \\\n",
              "0  https://play-lh.googleusercontent.com/a/AATXAJ...            Best app   \n",
              "1  https://play-lh.googleusercontent.com/a-/AOh14...            beutiful   \n",
              "2  https://play-lh.googleusercontent.com/a-/AOh14...   Very gud app 🥰🥰🥰🥰   \n",
              "3  https://play-lh.googleusercontent.com/a/AATXAJ...  Fantastic🤘😝 thanks   \n",
              "4  https://play-lh.googleusercontent.com/a/AATXAJ...           Excellent   \n",
              "\n",
              "   score  thumbsUpCount reviewCreatedVersion                  at replyContent  \\\n",
              "0      5              0                 None 2022-04-02 03:02:51         None   \n",
              "1      4              0          22.19.0.300 2022-04-02 03:02:00         None   \n",
              "2      5              0           20.6.0.300 2022-04-02 03:01:01         None   \n",
              "3      5              0                 None 2022-04-02 02:58:30         None   \n",
              "4      5              0                 None 2022-04-02 02:58:23         None   \n",
              "\n",
              "  repliedAt Sentiment     Score  \n",
              "0       NaT  POSITIVE  0.999687  \n",
              "1       NaT  NEGATIVE  0.915655  \n",
              "2       NaT  NEGATIVE  0.956140  \n",
              "3       NaT  POSITIVE  0.999649  \n",
              "4       NaT  POSITIVE  0.999843  "
            ]
          },
          "execution_count": 13,
          "metadata": {},
          "output_type": "execute_result"
        }
      ],
      "source": [
        "df.head()"
      ]
    },
    {
      "cell_type": "code",
      "execution_count": null,
      "metadata": {
        "colab": {
          "base_uri": "https://localhost:8080/"
        },
        "id": "f1pWoFieg8YK",
        "outputId": "9024ccf8-aca2-4281-d50e-6bcee3592da9"
      },
      "outputs": [
        {
          "data": {
            "text/plain": [
              "(10000, 12)"
            ]
          },
          "execution_count": 14,
          "metadata": {},
          "output_type": "execute_result"
        }
      ],
      "source": [
        "df.shape"
      ]
    },
    {
      "cell_type": "code",
      "execution_count": null,
      "metadata": {
        "colab": {
          "base_uri": "https://localhost:8080/"
        },
        "id": "ICI9fRBKjdUx",
        "outputId": "ffaf539b-5d5c-4eec-e0c7-6256460ae7c9"
      },
      "outputs": [
        {
          "data": {
            "text/plain": [
              "POSITIVE    5879\n",
              "NEGATIVE    4121\n",
              "Name: Sentiment, dtype: int64"
            ]
          },
          "execution_count": 15,
          "metadata": {},
          "output_type": "execute_result"
        }
      ],
      "source": [
        "df['Sentiment'].value_counts()"
      ]
    },
    {
      "cell_type": "code",
      "execution_count": null,
      "metadata": {
        "id": "TxZWm6QQnjAe"
      },
      "outputs": [],
      "source": [
        "df.to_csv('df.csv')"
      ]
    },
    {
      "cell_type": "markdown",
      "metadata": {
        "id": "WWlIzszi9kAO"
      },
      "source": [
        "# Specific Ratings\n"
      ]
    },
    {
      "cell_type": "code",
      "execution_count": null,
      "metadata": {
        "id": "9swmx6VY7nLo"
      },
      "outputs": [],
      "source": [
        "import pandas as pd\n",
        "new_df=pd.read_csv(\"/content/data.csv\")"
      ]
    },
    {
      "cell_type": "code",
      "execution_count": null,
      "metadata": {
        "id": "zroNrE4rqbDp"
      },
      "outputs": [],
      "source": [
        "new_df=new_df.iloc[:900,:]"
      ]
    },
    {
      "cell_type": "code",
      "execution_count": null,
      "metadata": {
        "id": "CINUxwRJod4r"
      },
      "outputs": [],
      "source": [
        "rating={}\n",
        "attribute=['UI','Service','Delivery','return','interface','payment']\n",
        "for attr in attribute:\n",
        "  P=0\n",
        "  N=0\n",
        "  PN=[]\n",
        "  for ind in new_df.index:\n",
        "    if attr.lower() in new_df['content'][ind].lower() :\n",
        "      if new_df['Sentiment'][ind]=='POSITIVE':\n",
        "        P+=1\n",
        "      else:\n",
        "        N+=1\n",
        "  PN.append(P)\n",
        "  PN.append(N)\n",
        "  rating[attr]=PN\n"
      ]
    },
    {
      "cell_type": "code",
      "execution_count": null,
      "metadata": {
        "id": "GjHcltSK-AxX"
      },
      "outputs": [],
      "source": [
        "rating={\n",
        "    'service':[],\n",
        "    'positive':[],\n",
        "    'negative':[]\n",
        "}\n",
        "attribute=['UI','Service','Delivery','return','interface','payment']\n",
        "for attr in attribute:\n",
        "  P=0\n",
        "  N=0\n",
        "  PN=[]\n",
        "  for ind in new_df.index:\n",
        "    if attr.lower() in new_df['content'][ind].lower() :\n",
        "      if new_df['Sentiment'][ind]=='POSITIVE':\n",
        "        P+=1\n",
        "      else:\n",
        "        N+=1\n",
        "  rating['positive'].append(P)\n",
        "  rating['negative'].append(N)\n",
        "  rating['service'].append(attr)\n"
      ]
    },
    {
      "cell_type": "code",
      "execution_count": null,
      "metadata": {
        "id": "EpYJZtXD80Aj"
      },
      "outputs": [],
      "source": [
        "rating1=pd.DataFrame(rating)\n",
        "rating1.to_csv('specific_ratings1.csv')"
      ]
    }
  ],
  "metadata": {
    "accelerator": "GPU",
    "colab": {
      "collapsed_sections": [
        "iPd2omnC1CLY",
        "WWlIzszi9kAO"
      ],
      "name": "SMA_SCE_updated.ipynb",
      "provenance": []
    },
    "kernelspec": {
      "display_name": "Python 3",
      "name": "python3"
    },
    "language_info": {
      "name": "python"
    }
  },
  "nbformat": 4,
  "nbformat_minor": 0
}
